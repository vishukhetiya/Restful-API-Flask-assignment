{
 "cells": [
  {
   "cell_type": "markdown",
   "id": "cb84abf4-4bcd-40b9-87ce-08e5776eb4a9",
   "metadata": {},
   "source": [
    "# 1. What is a RESTful API?"
   ]
  },
  {
   "cell_type": "markdown",
   "id": "d2fa9bd8-a10b-448a-aa8a-56c7152790dd",
   "metadata": {},
   "source": [
    "- A RESTful API (Representational State Transfer API) is a set of rules that allows different software applications to communicate over the web using standard HTTP methods like GET, POST, PUT, and DELETE."
   ]
  },
  {
   "cell_type": "markdown",
   "id": "b6579586-8373-4896-9c72-5c2715db01d1",
   "metadata": {},
   "source": [
    "### Key Features:"
   ]
  },
  {
   "cell_type": "markdown",
   "id": "fdf02080-0530-43d8-baef-3842d8028647",
   "metadata": {},
   "source": [
    "- Stateless: Each request from the client to the server must contain all the information needed to understand and process the request."
   ]
  },
  {
   "cell_type": "markdown",
   "id": "587272c5-18d5-4a0d-b853-4c99b91abcbf",
   "metadata": {},
   "source": [
    "- Resource-Based: REST treats everything as a resource (like a user, product, etc.), accessed via unique URIs."
   ]
  },
  {
   "cell_type": "markdown",
   "id": "16d36e1f-9739-43c2-98e3-dbb41390c880",
   "metadata": {},
   "source": [
    "- Uses HTTP Methods:\n",
    "\n",
    "    - GET to retrieve data\n",
    "\n",
    "    - POST to create data\n",
    "\n",
    "    - PUT to update data\n",
    "\n",
    "    - DELETE to remove data"
   ]
  },
  {
   "cell_type": "markdown",
   "id": "d421ea03-2ff9-4e4c-a078-01c034b19504",
   "metadata": {},
   "source": [
    "- JSON or XML: Most REST APIs return data in JSON format for easy readability and parsing."
   ]
  },
  {
   "cell_type": "markdown",
   "id": "7952e2a8-447c-45f8-9d61-312c1f5c3dc8",
   "metadata": {},
   "source": [
    "### Example:"
   ]
  },
  {
   "cell_type": "markdown",
   "id": "05294479-6b47-4ebc-b6a1-5b05024b25d0",
   "metadata": {},
   "source": [
    "- A RESTful API for a user database might look like:\n",
    "\n",
    "    - GET /users → Get list of users\n",
    "\n",
    "    - POST /users → Add a new user\n",
    "\n",
    "    - GET /users/1 → Get user with ID 1\n",
    "\n",
    "    - PUT /users/1 → Update user with ID 1\n",
    "\n",
    "    - DELETE /users/1 → Delete user with ID 1"
   ]
  },
  {
   "cell_type": "markdown",
   "id": "c2044d23-ab2e-46ce-bb4b-26e86f2f0b0f",
   "metadata": {},
   "source": [
    "# 2. Explain the concept of a REST API specification."
   ]
  },
  {
   "cell_type": "markdown",
   "id": "71cf6bad-0d21-4bde-986f-2cef60664727",
   "metadata": {},
   "source": [
    "- A REST API specification is a structured and standardized way of describing the endpoints, request methods, input parameters, and responses of a RESTful API. It acts as a blueprint for how the API behaves and how developers can interact with it."
   ]
  },
  {
   "cell_type": "markdown",
   "id": "3a6f4b1c-12fe-4dc0-8d53-610b7ca1292d",
   "metadata": {},
   "source": [
    "- Commonly used specifications include OpenAPI (formerly Swagger), which allows you to document your API in a machine-readable format (YAML or JSON). This makes it easier to generate documentation, client SDKs, and test tools automatically. A REST API specification helps ensure consistency, improves developer experience, and enables easier maintenance and integration of the API."
   ]
  },
  {
   "cell_type": "markdown",
   "id": "ec52e54d-f64b-41bf-bec4-01aebdd44fac",
   "metadata": {},
   "source": [
    "# 3. What is Flask, and why is it popular for building APIs?"
   ]
  },
  {
   "cell_type": "markdown",
   "id": "0b33fa02-21df-43aa-9658-eebb3bec63fa",
   "metadata": {},
   "source": [
    "- Flask is a lightweight and flexible web framework written in Python. It is widely used for building web applications and APIs because of its simplicity and ease of use."
   ]
  },
  {
   "cell_type": "markdown",
   "id": "d66edc0b-c29f-4582-a58d-48c3a2710cc2",
   "metadata": {},
   "source": [
    "### Why Flask is popular for building APIs:"
   ]
  },
  {
   "cell_type": "markdown",
   "id": "7c3eefe2-d49c-4a75-94d4-360ad4fe92bb",
   "metadata": {},
   "source": [
    "- Minimal setup: Flask requires minimal code to get a basic API running.\n",
    "\n",
    "- Extensible: You can easily add extensions like Flask-RESTful, Flask-SQLAlchemy, and more.\n",
    "\n",
    "- Built-in development server: Makes testing and debugging easier.\n",
    "\n",
    "- Routing support: Simplifies URL mapping and request handling.\n",
    "\n",
    "- Large community and documentation: Plenty of learning resources and community support."
   ]
  },
  {
   "cell_type": "markdown",
   "id": "461f2260-ea3b-4234-8597-967690b67619",
   "metadata": {},
   "source": [
    "# 4. What is routing in Flask"
   ]
  },
  {
   "cell_type": "markdown",
   "id": "3db401f0-0ffd-455e-8c99-43b47d50752f",
   "metadata": {},
   "source": [
    "- Routing in Flask refers to the process of mapping a URL to a specific function (also called a view function) that handles the request and returns a response."
   ]
  },
  {
   "cell_type": "markdown",
   "id": "912c691b-ca40-4068-a384-9e9fb8bb0c2d",
   "metadata": {},
   "source": [
    "### Key Points:"
   ]
  },
  {
   "cell_type": "markdown",
   "id": "8844c92f-07fe-4b33-9573-d8619d06cad7",
   "metadata": {},
   "source": [
    "- Flask uses the @app.route() decorator to define routes.\n",
    "\n",
    "- Each route corresponds to a URL endpoint.\n",
    "\n",
    "- When a user visits a specific URL, Flask executes the function associated with that route."
   ]
  },
  {
   "cell_type": "markdown",
   "id": "736a2c19-ffdd-42e5-a968-2a7b9f5781bf",
   "metadata": {},
   "source": [
    "### Example:"
   ]
  },
  {
   "cell_type": "code",
   "execution_count": 4,
   "id": "ebcb59ca-5ed9-4a73-b237-bda2821d305e",
   "metadata": {},
   "outputs": [],
   "source": [
    "from flask import Flask\n",
    "app = Flask(__name__)\n",
    "\n",
    "@app.route('/')\n",
    "def home():\n",
    "    return \"Welcome to the Home Page\"\n"
   ]
  },
  {
   "cell_type": "markdown",
   "id": "ae9ae92d-c402-4354-ad5a-3f1aaab8384e",
   "metadata": {},
   "source": [
    "- In this example, visiting http://localhost:5000/ will display \"Welcome to the Home Page\". Routing helps define how your Flask application responds to different URL paths."
   ]
  },
  {
   "cell_type": "markdown",
   "id": "d201c5c5-7d73-4a43-94ff-149a89875b9e",
   "metadata": {},
   "source": [
    "# 5. How do you create a simple Flask application?"
   ]
  },
  {
   "cell_type": "code",
   "execution_count": 5,
   "id": "3f1accc3-70f2-4354-8ee5-d57d9219d033",
   "metadata": {},
   "outputs": [
    {
     "name": "stdout",
     "output_type": "stream",
     "text": [
      "Requirement already satisfied: flask in c:\\users\\lenovo\\anaconda3\\lib\\site-packages (3.0.3)\n",
      "Requirement already satisfied: Werkzeug>=3.0.0 in c:\\users\\lenovo\\anaconda3\\lib\\site-packages (from flask) (3.0.3)\n",
      "Requirement already satisfied: Jinja2>=3.1.2 in c:\\users\\lenovo\\anaconda3\\lib\\site-packages (from flask) (3.1.4)\n",
      "Requirement already satisfied: itsdangerous>=2.1.2 in c:\\users\\lenovo\\anaconda3\\lib\\site-packages (from flask) (2.2.0)\n",
      "Requirement already satisfied: click>=8.1.3 in c:\\users\\lenovo\\anaconda3\\lib\\site-packages (from flask) (8.1.7)\n",
      "Requirement already satisfied: blinker>=1.6.2 in c:\\users\\lenovo\\anaconda3\\lib\\site-packages (from flask) (1.6.2)\n",
      "Requirement already satisfied: colorama in c:\\users\\lenovo\\anaconda3\\lib\\site-packages (from click>=8.1.3->flask) (0.4.6)\n",
      "Requirement already satisfied: MarkupSafe>=2.0 in c:\\users\\lenovo\\anaconda3\\lib\\site-packages (from Jinja2>=3.1.2->flask) (2.1.3)\n"
     ]
    }
   ],
   "source": [
    "!pip install flask\n"
   ]
  },
  {
   "cell_type": "code",
   "execution_count": 6,
   "id": "c4ff8a71-2742-4803-8fe2-2a672a363dc7",
   "metadata": {},
   "outputs": [],
   "source": [
    "from flask import Flask\n",
    "\n",
    "app = Flask(__name__)\n",
    "\n",
    "@app.route('/')\n",
    "def home():\n",
    "    return \"Hello, Flask!\"\n"
   ]
  },
  {
   "cell_type": "code",
   "execution_count": 8,
   "id": "71acf684-a7a5-4379-b7f2-49db549a39f6",
   "metadata": {},
   "outputs": [
    {
     "name": "stdout",
     "output_type": "stream",
     "text": [
      " * Serving Flask app '__main__'\n",
      " * Debug mode: on\n"
     ]
    },
    {
     "name": "stderr",
     "output_type": "stream",
     "text": [
      "WARNING: This is a development server. Do not use it in a production deployment. Use a production WSGI server instead.\n",
      " * Running on http://127.0.0.1:5000\n",
      "Press CTRL+C to quit\n",
      "127.0.0.1 - - [25/May/2025 12:10:04] \"GET / HTTP/1.1\" 200 -\n",
      "127.0.0.1 - - [25/May/2025 12:10:04] \"GET /favicon.ico HTTP/1.1\" 404 -\n"
     ]
    }
   ],
   "source": [
    "import threading\n",
    "\n",
    "def run_app():\n",
    "    app.run(debug=True, use_reloader=False)\n",
    "\n",
    "thread = threading.Thread(target=run_app)\n",
    "thread.start()"
   ]
  },
  {
   "cell_type": "markdown",
   "id": "176f3644-f35a-47ea-a33b-c496f055366c",
   "metadata": {},
   "source": [
    "- Open browser and go to: http://127.0.0.1:5000/"
   ]
  },
  {
   "cell_type": "markdown",
   "id": "94ff5fec-8781-45a6-ba4a-eae31737db3a",
   "metadata": {},
   "source": [
    "# 6. What are HTTP methods used in RESTful APIs?"
   ]
  },
  {
   "cell_type": "markdown",
   "id": "406e9a21-df4b-469d-9e04-d126d0e97639",
   "metadata": {},
   "source": [
    "- Here are the main HTTP methods used in RESTful APIs, along with their typical purposes:"
   ]
  },
  {
   "cell_type": "markdown",
   "id": "d0d8774b-9ed4-4b7c-80aa-7d4943b63e44",
   "metadata": {},
   "source": [
    "1. **GET**\n",
    "\n",
    "   * Retrieve data from the server\n",
    "   * Example: Get details of a user or list of items\n",
    "   * Should **not** change server state (safe and idempotent)\n",
    "\n",
    "2. **POST**\n",
    "\n",
    "   * Create a new resource on the server\n",
    "   * Example: Add a new user or submit a form\n",
    "   * Changes server state (not idempotent)\n",
    "\n",
    "3. **PUT**\n",
    "\n",
    "   * Update an existing resource or create it if it doesn’t exist\n",
    "   * Example: Update user information fully\n",
    "   * Idempotent (multiple identical requests result in the same state)\n",
    "\n",
    "4. **PATCH**\n",
    "\n",
    "   * Partially update an existing resource\n",
    "   * Example: Change just one or two fields of a user profile\n",
    "   * Not necessarily idempotent, but often treated as such\n",
    "\n",
    "5. **DELETE**\n",
    "\n",
    "   * Remove a resource from the server\n",
    "   * Example: Delete a user account\n",
    "   * Idempotent (deleting something that’s already deleted has no further effect)\n",
    "\n",
    "6. **OPTIONS**\n",
    "\n",
    "   * Describe the communication options for the target resource\n",
    "   * Often used in CORS preflight requests\n",
    "\n",
    "\n"
   ]
  },
  {
   "cell_type": "markdown",
   "id": "d9717c81-483d-41c9-a1d4-754574046dfe",
   "metadata": {},
   "source": [
    "# 7. What is the purpose of the `@app.route()` decorator in Flask?"
   ]
  },
  {
   "cell_type": "markdown",
   "id": "ab3311b7-9348-4d02-a499-be74a922900f",
   "metadata": {},
   "source": [
    "- The @app.route() decorator in Flask is used to bind a URL path (route) to a Python function. This means when a client (like a web browser) accesses that URL, Flask will execute the corresponding function and send its return value as the HTTP response."
   ]
  },
  {
   "cell_type": "markdown",
   "id": "66f1a107-dfe1-4f22-b4ad-ed4e963da7df",
   "metadata": {},
   "source": [
    "### Purpose:"
   ]
  },
  {
   "cell_type": "markdown",
   "id": "e9498f83-6ccd-49be-b632-f5e2765c755b",
   "metadata": {},
   "source": [
    "- It defines the URL endpoint where a specific function will run.\n",
    "\n",
    "- When a user visits that URL in a browser or sends a request, Flask calls the associated function and returns its response."
   ]
  },
  {
   "cell_type": "markdown",
   "id": "d42cf231-1271-4a56-8497-c2dfd1527fd5",
   "metadata": {},
   "source": [
    "- Key points:\n",
    "    * It defines the endpoint (URL) that triggers the function.\n",
    "\n",
    "    * It tells Flask what to do when a specific URL is requested.\n",
    "\n",
    "    * The decorated function is often called a view function or route handler.\n",
    "\n",
    "    * You can specify the HTTP methods (GET, POST, etc.) that the route accepts using methods parameter in the decorator."
   ]
  },
  {
   "cell_type": "markdown",
   "id": "f0f20188-fbca-4f18-af75-6655ee002901",
   "metadata": {},
   "source": [
    "### Example:"
   ]
  },
  {
   "cell_type": "code",
   "execution_count": 12,
   "id": "57db38b0-b158-4cb1-a945-d8661bd84ca3",
   "metadata": {},
   "outputs": [],
   "source": [
    "from flask import Flask\n",
    "\n",
    "app = Flask(__name__)\n",
    "\n",
    "@app.route('/')\n",
    "def home():\n",
    "    return \"Welcome to the homepage!\"\n"
   ]
  },
  {
   "cell_type": "markdown",
   "id": "bd1b2e26-24b0-4b0d-a7b5-ec0b947980f3",
   "metadata": {},
   "source": [
    "- When a user visits http://localhost:5000/, the home() function runs and returns the response \"Welcome to the homepage!\"."
   ]
  },
  {
   "cell_type": "markdown",
   "id": "8b19507c-a3db-408f-8eb2-b70d7f180fb8",
   "metadata": {},
   "source": [
    "### Summary:"
   ]
  },
  {
   "cell_type": "markdown",
   "id": "eed38600-08ba-4e5a-8066-08866f9fe427",
   "metadata": {},
   "source": [
    "- The @app.route() decorator maps URLs to functions, enabling Flask to respond to web requests at different endpoints."
   ]
  },
  {
   "cell_type": "markdown",
   "id": "19983409-f1bf-42f4-836e-1110768cddd0",
   "metadata": {},
   "source": [
    "# 8. What is the difference between GET and POST HTTP methods?"
   ]
  },
  {
   "cell_type": "markdown",
   "id": "912b866a-4030-41d5-a74c-b1998caf29df",
   "metadata": {},
   "source": [
    "- The difference between GET and POST HTTP methods:"
   ]
  },
  {
   "cell_type": "markdown",
   "id": "bdf40ffa-0089-4107-8557-6f1829489d9d",
   "metadata": {},
   "source": [
    "- GET and POST are two common HTTP methods used in web communication, but they serve different purposes.`"
   ]
  },
  {
   "cell_type": "markdown",
   "id": "88cf8cd3-e19d-4085-b068-b6c93010ec6c",
   "metadata": {},
   "source": [
    "- GET is used to request or retrieve data from a server. When a client sends a GET request, any parameters or data are sent appended to the URL as a query string, which is visible in the browser’s address bar. Because of this, GET requests are limited in the amount of data they can send. They are also safe and idempotent, meaning they should not change any server data and can be repeated without side effects. GET requests can be cached by browsers and can be bookmarked because the entire request information is contained in the URL."
   ]
  },
  {
   "cell_type": "markdown",
   "id": "097a670d-2aab-43c6-8221-f2bcb7a34909",
   "metadata": {},
   "source": [
    "- POST, on the other hand, is used to send data to the server, usually to create or update resources. The data sent in a POST request is included in the body of the request, so it is not visible in the URL. POST requests are not limited by the length of the URL and can send large amounts of data. They are not idempotent because each POST request may change the server state, like adding a new record. POST requests are generally not cached and cannot be bookmarked."
   ]
  },
  {
   "cell_type": "markdown",
   "id": "1388c24a-dda2-4a68-8081-23dced234310",
   "metadata": {},
   "source": [
    "- In summary, GET is mainly for retrieving data without side effects, while POST is used for sending data that changes server state or submits forms."
   ]
  },
  {
   "cell_type": "markdown",
   "id": "fdc969f1-1684-4b0f-bf58-265ef502dfd5",
   "metadata": {},
   "source": [
    "# 9. How do you handle errors in Flask APIs?"
   ]
  },
  {
   "cell_type": "markdown",
   "id": "8dfa8255-2e52-481d-a25a-fbbd4579872e",
   "metadata": {},
   "source": [
    "- In Flask APIs, error handling is done to manage and respond properly when something goes wrong during the processing of a request. Flask provides several ways to handle errors:"
   ]
  },
  {
   "cell_type": "markdown",
   "id": "ac00831b-b163-4bea-a189-f6d2a52e14ec",
   "metadata": {},
   "source": [
    "1. **Using error handlers:** You can define custom error handlers for specific HTTP error codes (like 404 Not Found or 500 Internal Server Error) using the `@app.errorhandler()` decorator. This lets you return meaningful error messages or JSON responses when those errors occur.\n",
    "\n",
    "2. **Raising HTTP exceptions:** Within your API routes, you can raise built-in HTTP exceptions from `werkzeug.exceptions` (e.g., `abort(404)`) to trigger an error response immediately when a condition isn’t met.\n",
    "\n",
    "3. **Try-except blocks:** For handling unexpected errors or specific exceptions, you can use Python’s try-except blocks inside your route functions to catch errors and return a custom error response instead of a default server error.\n",
    "\n",
    "4. **Returning error responses:** You can manually return a response with a specific status code and message when input validation fails or a resource is not found.\n"
   ]
  },
  {
   "cell_type": "markdown",
   "id": "9c0e53d2-c2e2-4839-bea9-74e3162cbebd",
   "metadata": {},
   "source": [
    "### Example of a simple error handler in Flask:"
   ]
  },
  {
   "cell_type": "code",
   "execution_count": 13,
   "id": "7e23b818-9a60-459f-89b5-b42c12661ba8",
   "metadata": {},
   "outputs": [],
   "source": [
    "from flask import Flask, jsonify\n",
    "\n",
    "app = Flask(__name__)\n",
    "\n",
    "@app.errorhandler(404)\n",
    "def not_found_error(error):\n",
    "    return jsonify({'error': 'Resource not found'}), 404\n",
    "\n",
    "@app.route('/item/<int:id>')\n",
    "def get_item(id):\n",
    "    items = {1: 'apple', 2: 'banana'}\n",
    "    if id not in items:\n",
    "        return not_found_error(404)\n",
    "    return jsonify({'item': items[id]})\n"
   ]
  },
  {
   "cell_type": "markdown",
   "id": "e5c0e8a7-e004-4ad2-8ba4-ddc12b0d9a04",
   "metadata": {},
   "source": [
    "- In this example, if the requested item does not exist, the API returns a JSON response with a 404 status code and a clear error message."
   ]
  },
  {
   "cell_type": "markdown",
   "id": "ba978c08-e6e0-432b-a1d7-9fd475a1f1df",
   "metadata": {},
   "source": [
    "# 10. How do you connect Flask to a SQL database?"
   ]
  },
  {
   "cell_type": "markdown",
   "id": "5835153a-a44e-4f09-9193-ded033eed8d1",
   "metadata": {},
   "source": [
    "- To connect a Flask application to a SQL database, you typically use an Object Relational Mapper (ORM) or a database driver. The most popular ORM for Flask is SQLAlchemy, which allows you to interact with the database using Python classes and objects instead of writing raw SQL queries."
   ]
  },
  {
   "cell_type": "markdown",
   "id": "decebc33-fdf8-4cc0-b031-2f8230137430",
   "metadata": {},
   "source": [
    "- Here are the basic steps to connect Flask to a SQL database using SQLAlchemy:"
   ]
  },
  {
   "cell_type": "markdown",
   "id": "1cac6e54-eaa8-4934-816b-7892d15498e8",
   "metadata": {},
   "source": [
    "1. **Install Flask-SQLAlchemy:**\n",
    "   You first install the Flask extension that integrates SQLAlchemy with Flask. This can be done using pip:\n"
   ]
  },
  {
   "cell_type": "code",
   "execution_count": 14,
   "id": "a2b3d71c-8509-447f-9696-f8d0033a9a78",
   "metadata": {},
   "outputs": [
    {
     "name": "stdout",
     "output_type": "stream",
     "text": [
      "Collecting flask_sqlalchemy\n",
      "  Downloading flask_sqlalchemy-3.1.1-py3-none-any.whl.metadata (3.4 kB)\n",
      "Requirement already satisfied: flask>=2.2.5 in c:\\users\\lenovo\\anaconda3\\lib\\site-packages (from flask_sqlalchemy) (3.0.3)\n",
      "Requirement already satisfied: sqlalchemy>=2.0.16 in c:\\users\\lenovo\\anaconda3\\lib\\site-packages (from flask_sqlalchemy) (2.0.34)\n",
      "Requirement already satisfied: Werkzeug>=3.0.0 in c:\\users\\lenovo\\anaconda3\\lib\\site-packages (from flask>=2.2.5->flask_sqlalchemy) (3.0.3)\n",
      "Requirement already satisfied: Jinja2>=3.1.2 in c:\\users\\lenovo\\anaconda3\\lib\\site-packages (from flask>=2.2.5->flask_sqlalchemy) (3.1.4)\n",
      "Requirement already satisfied: itsdangerous>=2.1.2 in c:\\users\\lenovo\\anaconda3\\lib\\site-packages (from flask>=2.2.5->flask_sqlalchemy) (2.2.0)\n",
      "Requirement already satisfied: click>=8.1.3 in c:\\users\\lenovo\\anaconda3\\lib\\site-packages (from flask>=2.2.5->flask_sqlalchemy) (8.1.7)\n",
      "Requirement already satisfied: blinker>=1.6.2 in c:\\users\\lenovo\\anaconda3\\lib\\site-packages (from flask>=2.2.5->flask_sqlalchemy) (1.6.2)\n",
      "Requirement already satisfied: typing-extensions>=4.6.0 in c:\\users\\lenovo\\anaconda3\\lib\\site-packages (from sqlalchemy>=2.0.16->flask_sqlalchemy) (4.11.0)\n",
      "Requirement already satisfied: greenlet!=0.4.17 in c:\\users\\lenovo\\anaconda3\\lib\\site-packages (from sqlalchemy>=2.0.16->flask_sqlalchemy) (3.0.1)\n",
      "Requirement already satisfied: colorama in c:\\users\\lenovo\\anaconda3\\lib\\site-packages (from click>=8.1.3->flask>=2.2.5->flask_sqlalchemy) (0.4.6)\n",
      "Requirement already satisfied: MarkupSafe>=2.0 in c:\\users\\lenovo\\anaconda3\\lib\\site-packages (from Jinja2>=3.1.2->flask>=2.2.5->flask_sqlalchemy) (2.1.3)\n",
      "Downloading flask_sqlalchemy-3.1.1-py3-none-any.whl (25 kB)\n",
      "Installing collected packages: flask_sqlalchemy\n",
      "Successfully installed flask_sqlalchemy-3.1.1\n",
      "Note: you may need to restart the kernel to use updated packages.\n"
     ]
    }
   ],
   "source": [
    "pip install flask_sqlalchemy"
   ]
  },
  {
   "cell_type": "markdown",
   "id": "b88071e5-d49d-4b10-9ef7-e57a9f8ef409",
   "metadata": {},
   "source": [
    "2. **Configure the database URI:**\n",
    "   In your Flask app, you set the database connection string (URI) in the app configuration. This URI tells Flask where the database is and which database type you are using (such as SQLite, MySQL, or PostgreSQL). For example, for an SQLite database:"
   ]
  },
  {
   "cell_type": "code",
   "execution_count": 15,
   "id": "d5a6ca60-9790-448d-a989-8fadce597d24",
   "metadata": {},
   "outputs": [],
   "source": [
    "app.config['SQLALCHEMY_DATABASE_URI'] = 'sqlite:///mydatabase.db'\n"
   ]
  },
  {
   "cell_type": "markdown",
   "id": "9e8e8058-d90b-4706-91fb-fdd13c575762",
   "metadata": {},
   "source": [
    "3. **Initialize SQLAlchemy:**\n",
    "   Create an instance of `SQLAlchemy` and link it to your Flask app:"
   ]
  },
  {
   "cell_type": "code",
   "execution_count": 16,
   "id": "b4c0cd7c-8c91-4cbe-b1b7-9437f63c4db8",
   "metadata": {},
   "outputs": [],
   "source": [
    "from flask_sqlalchemy import SQLAlchemy\n",
    "\n",
    "db = SQLAlchemy(app)\n"
   ]
  },
  {
   "cell_type": "markdown",
   "id": "bb48468c-4440-4c54-b7e0-c2405775fdfc",
   "metadata": {},
   "source": [
    "4. **Define models:**\n",
    "   Create Python classes that represent tables in your database. Each class attribute corresponds to a column. For example:"
   ]
  },
  {
   "cell_type": "code",
   "execution_count": 17,
   "id": "2aa2189d-af85-4fe8-81e0-a2b99cc8d0d5",
   "metadata": {},
   "outputs": [],
   "source": [
    "class User(db.Model):\n",
    "    id = db.Column(db.Integer, primary_key=True)\n",
    "    username = db.Column(db.String(80), unique=True, nullable=False)"
   ]
  },
  {
   "cell_type": "markdown",
   "id": "e58152be-ba67-458e-9ffd-f40ff8d7cffd",
   "metadata": {},
   "source": [
    "5. **Create tables and perform database operations:**\n",
    "   You can create the tables in the database by running:"
   ]
  },
  {
   "cell_type": "code",
   "execution_count": 19,
   "id": "7651a1a7-a786-4157-8765-16715dbc0efc",
   "metadata": {},
   "outputs": [],
   "source": [
    "from flask import Flask\n",
    "from flask_sqlalchemy import SQLAlchemy\n",
    "\n",
    "app = Flask(__name__)\n",
    "app.config['SQLALCHEMY_DATABASE_URI'] = 'sqlite:///mydatabase.db'\n",
    "\n",
    "db = SQLAlchemy(app)\n",
    "\n",
    "class User(db.Model):\n",
    "    id = db.Column(db.Integer, primary_key=True)\n",
    "    username = db.Column(db.String(80), unique=True, nullable=False)\n",
    "\n",
    "with app.app_context():\n",
    "    db.create_all()\n"
   ]
  },
  {
   "cell_type": "markdown",
   "id": "40e0dd33-dfd0-4d9e-a3c9-e84ebe4fee5b",
   "metadata": {},
   "source": [
    "- In summary:\n",
    "    - Connecting Flask to a SQL database involves installing and configuring Flask-SQLAlchemy, setting up the database URI, defining models that represent database tables, and then using SQLAlchemy’s methods to interact with the database in a Pythonic way."
   ]
  },
  {
   "cell_type": "markdown",
   "id": "d4efd108-03ae-4fc4-b878-45f5a339ddcb",
   "metadata": {},
   "source": [
    "# 11. What is the role of Flask-SQLAlchemy?\n"
   ]
  },
  {
   "cell_type": "markdown",
   "id": "97efe38c-4a3d-499c-ac4c-5bc528af0d8c",
   "metadata": {},
   "source": [
    "Flask-SQLAlchemy is an extension for Flask that simplifies using SQL databases in Flask applications. It acts as a bridge between Flask and SQLAlchemy, which is a powerful Object Relational Mapper (ORM) for Python.\n",
    "\n",
    "The main roles of Flask-SQLAlchemy are:\n",
    "\n",
    "1. **Simplifies database integration:** It makes it easy to configure and connect your Flask app to different SQL databases like SQLite, MySQL, or PostgreSQL using simple configuration settings.\n",
    "\n",
    "2. **Provides an ORM interface:** Instead of writing raw SQL queries, Flask-SQLAlchemy allows you to work with databases using Python classes and objects. This makes database operations more intuitive and less error-prone.\n",
    "\n",
    "3. **Manages database sessions:** It handles database connections and sessions automatically, reducing the complexity of managing transactions and connections.\n",
    "\n",
    "4. **Supports migrations:** When combined with tools like Flask-Migrate, it helps in managing database schema changes smoothly as your application evolves.\n",
    "\n",
    "In summary, Flask-SQLAlchemy helps developers interact with SQL databases in a clean, Pythonic, and Flask-friendly way, making database operations easier and more efficient.\n"
   ]
  },
  {
   "cell_type": "markdown",
   "id": "fd1a84a2-5b5f-4d29-8fe8-afd99763c41d",
   "metadata": {},
   "source": [
    "# 12. What are Flask blueprints, and how are they useful?"
   ]
  },
  {
   "cell_type": "markdown",
   "id": "ceaed8f9-f340-462f-8cc5-0793beb0cead",
   "metadata": {},
   "source": [
    "Flask Blueprints are a way to organize a Flask application into smaller, reusable components or modules. Instead of defining all routes, views, and other code in a single file, blueprints allow you to split the application into multiple parts, each with its own routes and logic.\n",
    "\n",
    "**How Flask Blueprints are useful:**\n",
    "\n",
    "1. **Better organization:** Blueprints help keep the codebase clean and modular by grouping related routes and functionality together. For example, you can have separate blueprints for user authentication, blog posts, or an admin panel.\n",
    "\n",
    "2. **Reusability:** Blueprints can be reused across different projects or registered multiple times within the same application with different URL prefixes.\n",
    "\n",
    "3. **Collaboration:** When working in a team, blueprints make it easier for developers to work independently on different parts of the app without conflicts.\n",
    "\n",
    "4. **Simplifies large apps:** For large applications, blueprints help manage complexity by breaking down the app into manageable pieces, making it easier to maintain and extend.\n",
    "\n",
    "**In summary:**\n",
    "Flask Blueprints are like mini Flask applications inside your main app, enabling you to build modular, organized, and scalable web applications."
   ]
  },
  {
   "cell_type": "markdown",
   "id": "ef3b08c6-72e1-4337-972d-190a6b91921d",
   "metadata": {},
   "source": [
    "# 13. What is the purpose of Flask’s request object?"
   ]
  },
  {
   "cell_type": "markdown",
   "id": "1ea50a08-4cd5-4f86-9c52-0ffc724bdd02",
   "metadata": {},
   "source": [
    "Flask’s `request` object represents the incoming HTTP request sent by a client to the server. It contains all the data and information about the request, such as form data, query parameters, headers, cookies, and the request method (GET, POST, etc.).\n",
    "\n",
    "The main purpose of the `request` object is to allow your Flask application to **access and process the details of the client’s request** so it can respond appropriately.\n",
    "\n",
    "For example, you can use the `request` object to:\n",
    "\n",
    "* Get data submitted through an HTML form or JSON payload.\n",
    "* Access URL query parameters.\n",
    "* Read headers or cookies sent by the client.\n",
    "* Determine the HTTP method used (GET, POST, etc.).\n",
    "\n",
    "**In summary:**\n",
    "The `request` object provides your Flask app with all the information about what the client sent, enabling your app to handle input and make decisions based on that data.\n"
   ]
  },
  {
   "cell_type": "markdown",
   "id": "ae7338cd-ba76-4957-8e69-660bed30a832",
   "metadata": {},
   "source": [
    "# 14. How do you create a RESTful API endpoint using Flask?"
   ]
  },
  {
   "cell_type": "markdown",
   "id": "61602983-f4e2-478c-8246-dd07f6baa807",
   "metadata": {},
   "source": [
    "To create a RESTful API endpoint in Flask, you define a route using the `@app.route()` decorator and write a function that handles HTTP requests at that route. You typically use Flask’s `request` and `jsonify` modules to receive input and return JSON responses, which are standard in REST APIs.\n",
    "\n",
    "1. **Import Flask and related modules:**\n",
    "   Import `Flask`, `request`, and `jsonify`.\n",
    "\n",
    "2. **Initialize the Flask app:**\n",
    "   Create an instance of the Flask application.\n",
    "\n",
    "3. **Define the API route:**\n",
    "   Use `@app.route()` to specify the URL endpoint and allowed HTTP methods (GET, POST, PUT, DELETE, etc.).\n",
    "\n",
    "4. **Write the view function:**\n",
    "   Inside the function, handle the request data and return a JSON response using `jsonify()`.\n"
   ]
  },
  {
   "cell_type": "markdown",
   "id": "73d40e01-adbe-43c2-8a75-2d6b4d5991df",
   "metadata": {},
   "source": [
    "### Simple example of a RESTful GET endpoint:"
   ]
  },
  {
   "cell_type": "code",
   "execution_count": 20,
   "id": "400ead15-a84d-424a-ba54-4fb58098a8f3",
   "metadata": {},
   "outputs": [
    {
     "name": "stdout",
     "output_type": "stream",
     "text": [
      " * Serving Flask app '__main__'\n",
      " * Debug mode: on\n"
     ]
    },
    {
     "name": "stderr",
     "output_type": "stream",
     "text": [
      "WARNING: This is a development server. Do not use it in a production deployment. Use a production WSGI server instead.\n",
      " * Running on http://127.0.0.1:5000\n",
      "Press CTRL+C to quit\n",
      " * Restarting with watchdog (windowsapi)\n"
     ]
    },
    {
     "ename": "SystemExit",
     "evalue": "1",
     "output_type": "error",
     "traceback": [
      "An exception has occurred, use %tb to see the full traceback.\n",
      "\u001b[1;31mSystemExit\u001b[0m\u001b[1;31m:\u001b[0m 1\n"
     ]
    }
   ],
   "source": [
    "from flask import Flask, jsonify\n",
    "\n",
    "app = Flask(__name__)\n",
    "\n",
    "@app.route('/api/items', methods=['GET'])\n",
    "def get_items():\n",
    "    items = [\n",
    "        {'id': 1, 'name': 'Apple'},\n",
    "        {'id': 2, 'name': 'Banana'}\n",
    "    ]\n",
    "    return jsonify(items)\n",
    "\n",
    "if __name__ == '__main__':\n",
    "    app.run(debug=True)\n"
   ]
  },
  {
   "cell_type": "markdown",
   "id": "e11a6de4-0980-4bd3-b035-ee373ad1dd16",
   "metadata": {},
   "source": [
    "- This endpoint responds to GET requests at /api/items by returning a JSON list of items."
   ]
  },
  {
   "cell_type": "markdown",
   "id": "0e3aed2e-9362-4796-99b9-4855977b8d30",
   "metadata": {},
   "source": [
    "### Summary:"
   ]
  },
  {
   "cell_type": "markdown",
   "id": "1d6e6578-71d3-4da6-b08a-3b8e1a31dd1f",
   "metadata": {},
   "source": [
    "- Use @app.route() with the URL and HTTP methods.\n",
    "\n",
    "- Use jsonify() to return data in JSON format.\n",
    "\n",
    "- Access request data with the request object if needed."
   ]
  },
  {
   "cell_type": "markdown",
   "id": "095609e4-2634-4448-880b-f7fceccf8a3e",
   "metadata": {},
   "source": [
    "# 15. What is the purpose of Flask’s `jsonify()` function?"
   ]
  },
  {
   "cell_type": "markdown",
   "id": "04e604df-259f-43ec-b43e-311b9f275aa4",
   "metadata": {},
   "source": [
    "The `jsonify()` function in Flask is used to convert Python data structures like dictionaries or lists into a JSON-formatted response that can be sent back to the client. It also automatically sets the correct HTTP response headers, such as `Content-Type: application/json`, which tells the client that the response contains JSON data.\n",
    "\n",
    "Using `jsonify()` makes it easy to return JSON responses from your Flask API endpoints in a safe and standard way.\n",
    "\n",
    "---\n",
    "\n",
    "**In short:**\n",
    "`jsonify()` turns your Python data into JSON and prepares it as a proper HTTP response to send back to the client.\n"
   ]
  },
  {
   "cell_type": "markdown",
   "id": "252ae63f-b566-4e3b-b81d-f3c5a7845924",
   "metadata": {},
   "source": [
    "# 16. Explain Flask’s `url_for()` function."
   ]
  },
  {
   "cell_type": "markdown",
   "id": "f2dfa5ef-bf62-4de5-b3d2-1ff064691d26",
   "metadata": {},
   "source": [
    "The `url_for()` function in Flask is used to generate URLs for your application’s routes dynamically. Instead of hardcoding URLs in your code or templates, `url_for()` creates the correct URL based on the function name that handles a route.\n",
    "\n",
    "This is helpful because if you ever change the URL structure in your app, you only need to update it in one place (the route definition), and all the links generated by `url_for()` will automatically reflect that change.\n",
    "\n",
    "**Key points about `url_for()`:**\n",
    "\n",
    "* It takes the **endpoint name**, which is usually the name of the view function.\n",
    "* It can accept **keyword arguments** that correspond to any variable parts of the URL.\n",
    "* It helps avoid errors caused by manually typing URLs and makes the code more maintainable.\n",
    "\n"
   ]
  },
  {
   "cell_type": "markdown",
   "id": "b2ce951c-4445-4938-a627-8c2150f2cf7d",
   "metadata": {},
   "source": [
    "### Example:"
   ]
  },
  {
   "cell_type": "code",
   "execution_count": 22,
   "id": "11c22e0d-8ed4-4113-8b8a-c0838a85b8a8",
   "metadata": {},
   "outputs": [
    {
     "name": "stdout",
     "output_type": "stream",
     "text": [
      "/user/john\n"
     ]
    }
   ],
   "source": [
    "from flask import Flask, url_for\n",
    "\n",
    "app = Flask(__name__)\n",
    "\n",
    "@app.route('/user/<username>')\n",
    "def profile(username):\n",
    "    return f\"User: {username}\"\n",
    "\n",
    "with app.test_request_context():\n",
    "    print(url_for('profile', username='john'))  \n",
    "\n"
   ]
  },
  {
   "cell_type": "markdown",
   "id": "ae722840-4c1c-4118-a267-a5242cac4a15",
   "metadata": {},
   "source": [
    "- In summary:\n",
    "    - url_for() generates the correct URL for a route based on its function name and parameters, making your Flask app more flexible and easier to maintain."
   ]
  },
  {
   "cell_type": "markdown",
   "id": "05b7aaf9-efed-490b-8a85-652960f84dc8",
   "metadata": {},
   "source": [
    "# 17. How does Flask handle static files (CSS, JavaScript, etc.)?"
   ]
  },
  {
   "cell_type": "markdown",
   "id": "163ca00b-fa1d-4149-ba81-e6e5faa5ebaf",
   "metadata": {},
   "source": [
    "- Flask automatically serves static files like CSS, JavaScript, and images from a special folder named static. By default, any files placed inside the static folder in your project can be accessed in the browser using the /static/ path."
   ]
  },
  {
   "cell_type": "markdown",
   "id": "b490eebd-a5e9-40e9-9f68-120205d97cb4",
   "metadata": {},
   "source": [
    "- For example, if you have a CSS file at static/style.css, it can be included in your HTML like this:"
   ]
  },
  {
   "cell_type": "code",
   "execution_count": null,
   "id": "bd5e349a-f3bd-42fe-89a3-d61a8cd4bbf8",
   "metadata": {},
   "outputs": [],
   "source": [
    "'''<!DOCTYPE html>\n",
    "<html>\n",
    "<head>\n",
    "    <title>Flask Static Example</title>\n",
    "    <link rel=\"stylesheet\" href=\"{{ url_for('static', filename='style.css') }}\">\n",
    "</head>\n",
    "<body>\n",
    "    <h1>Hello Flask!</h1>\n",
    "</body>\n",
    "</html>\n",
    "'''"
   ]
  },
  {
   "cell_type": "markdown",
   "id": "75089477-3627-4371-8d31-c132fa8aa3f9",
   "metadata": {},
   "source": [
    "- This ensures Flask generates the correct URL for the static file, even if your app's structure changes."
   ]
  },
  {
   "cell_type": "markdown",
   "id": "8b660baa-f716-4054-b7f5-d973e9a77f07",
   "metadata": {},
   "source": [
    "- How it works:\n",
    "\n",
    "    - Create a folder named static in the root directory of your Flask project.\n",
    "\n",
    "    - Place your static files (CSS, JS, images) inside it.\n",
    "\n",
    "    - Access those files using the url_for('static', filename='...') function in your HTML templates."
   ]
  },
  {
   "cell_type": "markdown",
   "id": "0ae8713a-28ec-4eff-86d0-57c15595b76c",
   "metadata": {},
   "source": [
    "- In summary:\n",
    "    - Flask handles static files by serving them from the static folder and letting you link to them using url_for('static', filename='...'), which makes it easy and reliable to include CSS, JavaScript, and images in your web app."
   ]
  },
  {
   "cell_type": "markdown",
   "id": "dfdc06da-214b-49ea-8d4c-c66ac0a00216",
   "metadata": {},
   "source": [
    "# 18. What is an API specification, and how does it help in building a Flask API?"
   ]
  },
  {
   "cell_type": "markdown",
   "id": "419ca933-ea52-41cd-a1db-3b5935b0b121",
   "metadata": {},
   "source": [
    "An API specification is a detailed document or blueprint that defines how an API should behave. It describes the available endpoints, the type of requests (like GET, POST), the input parameters, the expected responses, and error messages. Popular formats for API specifications include OpenAPI (formerly Swagger) and RAML.\n",
    "\n",
    "In the context of building a Flask API, an API specification helps in the following ways:\n",
    "\n",
    "* **Clear communication**: It acts as a contract between frontend and backend developers, making it easier to collaborate.\n",
    "* **Consistency**: It ensures that all API endpoints follow a standard structure and naming convention.\n",
    "* **Documentation**: It provides automatic and user-friendly documentation of the API, which is useful for developers and users.\n",
    "* **Validation**: It can help validate incoming data and responses against the defined schema.\n",
    "* **Testing and debugging**: It supports automated tools that can test the API against the specification, reducing bugs.\n",
    "\n",
    "In short, an API specification makes Flask API development more structured, maintainable, and easy to understand for everyone involved.\n"
   ]
  },
  {
   "cell_type": "markdown",
   "id": "582865d2-4589-45c0-a208-545e417cbf93",
   "metadata": {},
   "source": [
    "# 19. What are HTTP status codes, and why are they important in a Flask API?"
   ]
  },
  {
   "cell_type": "markdown",
   "id": "f2626053-9712-4418-9043-26e154b9041a",
   "metadata": {},
   "source": [
    "HTTP status codes are standard response codes returned by a web server to indicate the outcome of a client’s request. Each status code is a three-digit number that belongs to a specific category, such as success, client error, or server error.\n",
    "\n",
    "In a Flask API, HTTP status codes are important because they help the client understand whether the request was successful or if something went wrong.\n",
    "\n",
    "Here are a few examples:\n",
    "\n",
    "* `200 OK` – The request was successful.\n",
    "* `201 Created` – A new resource was successfully created.\n",
    "* `400 Bad Request` – The client sent invalid data.\n",
    "* `404 Not Found` – The requested resource does not exist.\n",
    "* `500 Internal Server Error` – Something went wrong on the server.\n",
    "\n",
    "Using proper status codes in a Flask API improves communication between the client and server, helps with debugging, and ensures the API behaves according to standard web practices.\n"
   ]
  },
  {
   "cell_type": "markdown",
   "id": "1ec6fc61-7ce4-4b79-8627-87399a532b9f",
   "metadata": {},
   "source": [
    "# 20. How do you handle POST requests in Flask?"
   ]
  },
  {
   "cell_type": "markdown",
   "id": "6edf5820-c344-4347-a88e-175dd770776a",
   "metadata": {},
   "source": [
    "- In Flask, you handle POST requests by defining a route that accepts the `POST` method and then using the `request` object to access the data sent by the client.\n",
    "\n",
    "- To do this, you use the `@app.route()` decorator with `methods=['POST']`, and then get the form or JSON data from the `request` object.\n"
   ]
  },
  {
   "cell_type": "markdown",
   "id": "43f057ee-afe6-424f-8696-dff7648330d2",
   "metadata": {},
   "source": [
    "### Here is a simple example:"
   ]
  },
  {
   "cell_type": "code",
   "execution_count": 27,
   "id": "67807ab8-9fcf-4748-a9db-3be96c0cdfac",
   "metadata": {},
   "outputs": [],
   "source": [
    "from flask import Flask, request\n",
    "\n",
    "app = Flask(__name__)\n",
    "\n",
    "@app.route('/submit', methods=['POST'])\n",
    "def submit():\n",
    "    data = request.form['name']  \n",
    "    return f\"Received: {data}\"\n"
   ]
  },
  {
   "cell_type": "markdown",
   "id": "1294b9ef-7885-4b1e-be76-b3ecdd896c5d",
   "metadata": {},
   "source": [
    "- In this example:\n",
    "\n",
    "    - The /submit route only responds to POST requests.\n",
    "\n",
    "    - request.form is used when data is sent using a form.\n",
    "\n",
    "    - request.json is used when data is sent in JSON format.\n",
    "\n",
    "    - This is how Flask processes data sent by clients using the POST method, allowing users to submit forms, upload data, or interact with the server securely."
   ]
  },
  {
   "cell_type": "markdown",
   "id": "3afebed4-e7f1-4942-8453-1bb937228138",
   "metadata": {},
   "source": [
    "# 21. How would you secure a Flask API?"
   ]
  },
  {
   "cell_type": "markdown",
   "id": "a3090b6e-1c36-40b2-8956-bae6e91a2a3c",
   "metadata": {},
   "source": [
    "Securing a Flask API is important to protect it from unauthorized access, data leaks, and malicious attacks. Here are several common methods to secure a Flask API:\n",
    "\n",
    "1. **Authentication and Authorization**\n",
    "   Use tokens (like JWT – JSON Web Tokens) or API keys to ensure that only authorized users can access your API endpoints. Authentication verifies the user’s identity, while authorization controls what they can access.\n",
    "\n",
    "2. **HTTPS (SSL/TLS)**\n",
    "   Always serve your API over HTTPS to encrypt the data being transferred between the client and the server, protecting it from eavesdropping and man-in-the-middle attacks.\n",
    "\n",
    "3. **Input Validation and Sanitization**\n",
    "   Validate all incoming data to prevent attacks like SQL injection or cross-site scripting (XSS). Never trust user input directly.\n",
    "\n",
    "4. **Rate Limiting**\n",
    "   Implement rate limiting to prevent abuse by limiting how many requests a client can make in a certain time period.\n",
    "\n",
    "5. **Error Handling**\n",
    "   Avoid exposing sensitive information in error messages. Always return generic error messages to users and log the full details privately.\n",
    "\n",
    "6. **Use Flask Extensions**\n",
    "   Use security-related extensions like `Flask-JWT`, `Flask-Login`, and `Flask-Limiter` to add extra layers of protection easily.\n",
    "\n",
    "7. **CORS Control**\n",
    "   Use `Flask-CORS` to control which domains are allowed to access your API, especially if it is consumed by a frontend hosted on another domain.\n",
    "\n",
    "By following these practices, you can build a more secure Flask API that protects both your server and your users.\n"
   ]
  },
  {
   "cell_type": "markdown",
   "id": "0201c1e2-0ef1-4d94-a4bf-1dff86c40ecd",
   "metadata": {},
   "source": [
    "# 22. What is the significance of the Flask-RESTful extension?"
   ]
  },
  {
   "cell_type": "markdown",
   "id": "69d7cb2d-c794-488b-9812-d0c08eca49fc",
   "metadata": {},
   "source": [
    "Flask-RESTful is an extension for Flask that helps in building RESTful APIs more quickly and efficiently. It provides a structured way to define API resources and handle HTTP methods like GET, POST, PUT, and DELETE using Python classes.\n",
    "\n",
    "Here’s why Flask-RESTful is significant:\n",
    "\n",
    "1. **Class-based Views**\n",
    "   Instead of using multiple functions for different routes, you can organize your endpoints using Python classes. Each HTTP method is defined as a method in the class, making the code more readable and reusable.\n",
    "\n",
    "2. **Cleaner Code Structure**\n",
    "   It promotes a clean separation between different API resources and their behaviors, which is useful in larger applications.\n",
    "\n",
    "3. **Built-in Request Parsing**\n",
    "   It provides a simple way to parse and validate incoming request data using `reqparse`.\n",
    "\n",
    "4. **Integration with Flask**\n",
    "   Flask-RESTful works well with other Flask extensions and integrates easily into existing Flask apps.\n",
    "\n",
    "5. **Better Error Handling**\n",
    "   It allows for consistent error formatting and handling through the use of custom error responses.\n",
    "\n",
    "In short, Flask-RESTful makes it easier and faster to build scalable, maintainable, and well-structured REST APIs in Flask.\n"
   ]
  },
  {
   "cell_type": "markdown",
   "id": "8472d069-a3a2-466a-a54a-623420a41066",
   "metadata": {},
   "source": [
    "# 23. What is the role of Flask’s session object?"
   ]
  },
  {
   "cell_type": "markdown",
   "id": "49468c67-c0e1-42e3-a4e0-de1a5b616c83",
   "metadata": {},
   "source": [
    "The `session` object in Flask is used to store information about a user's session across multiple requests. It allows you to remember data, such as login status or user preferences, between different pages or visits without requiring the user to re-enter information.\n",
    "\n",
    "The data stored in the session is kept on the server side, but a special cookie (called a session cookie) is sent to the client. This cookie contains a session ID that links the client to their session data on the server. Flask uses a secret key to securely sign the session cookie, which prevents tampering.\n",
    "\n",
    "**Example use cases:**\n",
    "\n",
    "* Keeping users logged in after authentication.\n",
    "* Storing temporary user preferences.\n",
    "* Passing data between routes without using URLs.\n",
    "\n",
    "Since sessions are secure and user-specific, they are very useful for building web applications that require user interaction or personalization.\n"
   ]
  },
  {
   "cell_type": "markdown",
   "id": "461fd2dd-3391-4a10-beca-1716b7059cd3",
   "metadata": {},
   "source": [
    "# **Practical Questions**\n"
   ]
  },
  {
   "cell_type": "markdown",
   "id": "e9d36d0b-27f6-4071-891c-22dc984c5ac8",
   "metadata": {},
   "source": [
    "# 1. How do you create a basic Flask application?"
   ]
  },
  {
   "cell_type": "code",
   "execution_count": 29,
   "id": "cb165004-bd9a-41d7-9591-81c753c9225e",
   "metadata": {},
   "outputs": [
    {
     "name": "stdout",
     "output_type": "stream",
     "text": [
      " * Serving Flask app '__main__'\n",
      " * Debug mode: on\n"
     ]
    },
    {
     "name": "stderr",
     "output_type": "stream",
     "text": [
      "WARNING: This is a development server. Do not use it in a production deployment. Use a production WSGI server instead.\n",
      " * Running on http://127.0.0.1:5000\n",
      "Press CTRL+C to quit\n",
      " * Restarting with watchdog (windowsapi)\n"
     ]
    },
    {
     "ename": "SystemExit",
     "evalue": "1",
     "output_type": "error",
     "traceback": [
      "An exception has occurred, use %tb to see the full traceback.\n",
      "\u001b[1;31mSystemExit\u001b[0m\u001b[1;31m:\u001b[0m 1\n"
     ]
    },
    {
     "name": "stderr",
     "output_type": "stream",
     "text": [
      "C:\\Users\\Lenovo\\anaconda3\\Lib\\site-packages\\IPython\\core\\interactiveshell.py:3585: UserWarning: To exit: use 'exit', 'quit', or Ctrl-D.\n",
      "  warn(\"To exit: use 'exit', 'quit', or Ctrl-D.\", stacklevel=1)\n"
     ]
    }
   ],
   "source": [
    "from flask import Flask\n",
    "\n",
    "app = Flask(__name__)\n",
    "\n",
    "@app.route('/')\n",
    "def home():\n",
    "    return \"Hello, Flask!\"\n",
    "\n",
    "if __name__ == '__main__':\n",
    "    app.run(debug=True)\n"
   ]
  },
  {
   "cell_type": "markdown",
   "id": "cf2e0e35-01dd-4a6b-93b5-b27a674d212b",
   "metadata": {},
   "source": [
    "# 2. How do you serve static files like images or CSS in Flask?"
   ]
  },
  {
   "cell_type": "code",
   "execution_count": 32,
   "id": "b0ffbe1e-ab18-4022-960c-654909996013",
   "metadata": {},
   "outputs": [
    {
     "name": "stdout",
     "output_type": "stream",
     "text": [
      " * Serving Flask app '__main__'\n",
      " * Debug mode: on\n"
     ]
    },
    {
     "name": "stderr",
     "output_type": "stream",
     "text": [
      "WARNING: This is a development server. Do not use it in a production deployment. Use a production WSGI server instead.\n",
      " * Running on http://127.0.0.1:5000\n",
      "Press CTRL+C to quit\n",
      " * Restarting with watchdog (windowsapi)\n"
     ]
    },
    {
     "ename": "SystemExit",
     "evalue": "1",
     "output_type": "error",
     "traceback": [
      "An exception has occurred, use %tb to see the full traceback.\n",
      "\u001b[1;31mSystemExit\u001b[0m\u001b[1;31m:\u001b[0m 1\n"
     ]
    }
   ],
   "source": [
    "from flask import Flask, url_for\n",
    "\n",
    "app = Flask(__name__)\n",
    "\n",
    "@app.route('/')\n",
    "def home():\n",
    "\n",
    "    css_url = url_for('static', filename='style.css')\n",
    "    img_url = url_for('static', filename='logo.png')\n",
    "    return f'''\n",
    "    <html>\n",
    "        <head>\n",
    "            <link rel=\"stylesheet\" href=\"{css_url}\">\n",
    "        </head>\n",
    "        <body>\n",
    "            <h1>Static Files Example</h1>\n",
    "            <img src=\"{img_url}\" alt=\"Logo\">\n",
    "        </body>\n",
    "    </html>\n",
    "    '''\n",
    "\n",
    "if __name__ == '__main__':\n",
    "    app.run(debug=True)\n"
   ]
  },
  {
   "cell_type": "markdown",
   "id": "697c175f-125d-471b-a3e9-e3712974c651",
   "metadata": {},
   "source": [
    "# 3. How do you define different routes with different HTTP methods in Flask"
   ]
  },
  {
   "cell_type": "code",
   "execution_count": 33,
   "id": "46869171-4f1f-4f01-976e-9aa014025d67",
   "metadata": {},
   "outputs": [
    {
     "name": "stdout",
     "output_type": "stream",
     "text": [
      " * Serving Flask app '__main__'\n",
      " * Debug mode: on\n"
     ]
    },
    {
     "name": "stderr",
     "output_type": "stream",
     "text": [
      "WARNING: This is a development server. Do not use it in a production deployment. Use a production WSGI server instead.\n",
      " * Running on http://127.0.0.1:5000\n",
      "Press CTRL+C to quit\n",
      " * Restarting with watchdog (windowsapi)\n"
     ]
    },
    {
     "ename": "SystemExit",
     "evalue": "1",
     "output_type": "error",
     "traceback": [
      "An exception has occurred, use %tb to see the full traceback.\n",
      "\u001b[1;31mSystemExit\u001b[0m\u001b[1;31m:\u001b[0m 1\n"
     ]
    }
   ],
   "source": [
    "from flask import Flask, request\n",
    "\n",
    "app = Flask(__name__)\n",
    "\n",
    "@app.route('/hello', methods=['GET'])\n",
    "def hello():\n",
    "    return \"Hello, GET request!\"\n",
    "\n",
    "@app.route('/submit', methods=['POST'])\n",
    "def submit():\n",
    "    data = request.form.get('data', 'No data received')\n",
    "    return f\"Received POST data: {data}\"\n",
    "\n",
    "@app.route('/both', methods=['GET', 'POST'])\n",
    "def both():\n",
    "    if request.method == 'POST':\n",
    "        return \"This is a POST request\"\n",
    "    else:\n",
    "        return \"This is a GET request\"\n",
    "\n",
    "if __name__ == '__main__':\n",
    "    app.run(debug=True)\n"
   ]
  },
  {
   "cell_type": "markdown",
   "id": "02f6adc6-4f84-4743-8f63-aa0c75abc9d2",
   "metadata": {},
   "source": [
    "# 4.How do you render HTML templates in Flask?"
   ]
  },
  {
   "cell_type": "code",
   "execution_count": null,
   "id": "6c9571c1-9f0f-40c3-9276-be9e669fcdb2",
   "metadata": {},
   "outputs": [],
   "source": [
    "'''<!-- templates/index.html -->\n",
    "<!DOCTYPE html>\n",
    "<html>\n",
    "<head>\n",
    "    <title>Flask Template Example</title>\n",
    "</head>\n",
    "<body>\n",
    "    <h1>Welcome, {{ name }}!</h1>\n",
    "</body>\n",
    "</html>\n",
    "'''"
   ]
  },
  {
   "cell_type": "code",
   "execution_count": 35,
   "id": "b5efe676-ef52-4405-a86b-de94cc8103ce",
   "metadata": {},
   "outputs": [
    {
     "name": "stdout",
     "output_type": "stream",
     "text": [
      " * Serving Flask app '__main__'\n",
      " * Debug mode: on\n"
     ]
    },
    {
     "name": "stderr",
     "output_type": "stream",
     "text": [
      "WARNING: This is a development server. Do not use it in a production deployment. Use a production WSGI server instead.\n",
      " * Running on http://127.0.0.1:5000\n",
      "Press CTRL+C to quit\n",
      " * Restarting with watchdog (windowsapi)\n"
     ]
    },
    {
     "ename": "SystemExit",
     "evalue": "1",
     "output_type": "error",
     "traceback": [
      "An exception has occurred, use %tb to see the full traceback.\n",
      "\u001b[1;31mSystemExit\u001b[0m\u001b[1;31m:\u001b[0m 1\n"
     ]
    }
   ],
   "source": [
    "from flask import Flask, render_template\n",
    "\n",
    "app = Flask(__name__)\n",
    "\n",
    "@app.route('/')\n",
    "def home():\n",
    "    return render_template('index.html', name='Student')\n",
    "\n",
    "if __name__ == '__main__':\n",
    "    app.run(debug=True)\n"
   ]
  },
  {
   "cell_type": "markdown",
   "id": "f075e66d-9e00-4b23-87b8-2be33028a798",
   "metadata": {},
   "source": [
    "# 5. How can you generate URLs for routes in Flask using `url_for`?"
   ]
  },
  {
   "cell_type": "code",
   "execution_count": 37,
   "id": "8e2d89f2-f9a0-4d38-aef5-3debed18613b",
   "metadata": {},
   "outputs": [
    {
     "name": "stdout",
     "output_type": "stream",
     "text": [
      " * Serving Flask app '__main__'\n",
      " * Debug mode: on\n"
     ]
    },
    {
     "name": "stderr",
     "output_type": "stream",
     "text": [
      "WARNING: This is a development server. Do not use it in a production deployment. Use a production WSGI server instead.\n",
      " * Running on http://127.0.0.1:5000\n",
      "Press CTRL+C to quit\n",
      " * Restarting with watchdog (windowsapi)\n"
     ]
    },
    {
     "ename": "SystemExit",
     "evalue": "1",
     "output_type": "error",
     "traceback": [
      "An exception has occurred, use %tb to see the full traceback.\n",
      "\u001b[1;31mSystemExit\u001b[0m\u001b[1;31m:\u001b[0m 1\n"
     ]
    }
   ],
   "source": [
    "from flask import Flask, url_for\n",
    "\n",
    "app = Flask(__name__)\n",
    "\n",
    "@app.route('/')\n",
    "def home():\n",
    "    return \"This is the Home page\"\n",
    "\n",
    "@app.route('/user/<username>')\n",
    "def profile(username):\n",
    "    return f\"Profile page of {username}\"\n",
    "\n",
    "@app.route('/links')\n",
    "def links():\n",
    "    \n",
    "    home_url = url_for('home')\n",
    "    \n",
    "    profile_url = url_for('profile', username='alice')\n",
    "    return f'''\n",
    "    <a href=\"{home_url}\">Home</a><br>\n",
    "    <a href=\"{profile_url}\">Alice's Profile</a>\n",
    "    '''\n",
    "\n",
    "if __name__ == '__main__':\n",
    "    app.run(debug=True)\n"
   ]
  },
  {
   "cell_type": "markdown",
   "id": "d2187d07-a847-441a-876a-e26c6690a0c5",
   "metadata": {},
   "source": [
    "# 6. How do you handle form submissions in Flask?\n"
   ]
  },
  {
   "cell_type": "code",
   "execution_count": 38,
   "id": "6e7d7874-024c-4154-bfe7-7237fda7d8dc",
   "metadata": {},
   "outputs": [
    {
     "name": "stdout",
     "output_type": "stream",
     "text": [
      " * Serving Flask app '__main__'\n",
      " * Debug mode: on\n"
     ]
    },
    {
     "name": "stderr",
     "output_type": "stream",
     "text": [
      "WARNING: This is a development server. Do not use it in a production deployment. Use a production WSGI server instead.\n",
      " * Running on http://127.0.0.1:5000\n",
      "Press CTRL+C to quit\n",
      " * Restarting with watchdog (windowsapi)\n"
     ]
    },
    {
     "ename": "SystemExit",
     "evalue": "1",
     "output_type": "error",
     "traceback": [
      "An exception has occurred, use %tb to see the full traceback.\n",
      "\u001b[1;31mSystemExit\u001b[0m\u001b[1;31m:\u001b[0m 1\n"
     ]
    }
   ],
   "source": [
    "from flask import Flask, request, render_template_string\n",
    "\n",
    "app = Flask(__name__)\n",
    "\n",
    "form_html = '''\n",
    "<form method=\"POST\" action=\"/submit\">\n",
    "    Name: <input type=\"text\" name=\"name\"><br>\n",
    "    Age: <input type=\"number\" name=\"age\"><br>\n",
    "    <input type=\"submit\" value=\"Submit\">\n",
    "</form>\n",
    "'''\n",
    "\n",
    "@app.route('/')\n",
    "def form():\n",
    "    return form_html\n",
    "\n",
    "@app.route('/submit', methods=['POST'])\n",
    "def submit():\n",
    "    name = request.form.get('name')\n",
    "    age = request.form.get('age')\n",
    "    return f\"Received data - Name: {name}, Age: {age}\"\n",
    "\n",
    "if __name__ == '__main__':\n",
    "    app.run(debug=True)\n"
   ]
  },
  {
   "cell_type": "markdown",
   "id": "07589dda-ec08-4df8-83a0-06e45974985b",
   "metadata": {},
   "source": [
    "# 7. How can you validate form data in Flask?"
   ]
  },
  {
   "cell_type": "code",
   "execution_count": 39,
   "id": "84861c60-e711-4289-9e0e-fa5bcdfb33ba",
   "metadata": {},
   "outputs": [
    {
     "name": "stdout",
     "output_type": "stream",
     "text": [
      "Collecting flask-wtf\n",
      "  Downloading flask_wtf-1.2.2-py3-none-any.whl.metadata (3.4 kB)\n",
      "Requirement already satisfied: flask in c:\\users\\lenovo\\anaconda3\\lib\\site-packages (from flask-wtf) (3.0.3)\n",
      "Requirement already satisfied: itsdangerous in c:\\users\\lenovo\\anaconda3\\lib\\site-packages (from flask-wtf) (2.2.0)\n",
      "Collecting wtforms (from flask-wtf)\n",
      "  Downloading wtforms-3.2.1-py3-none-any.whl.metadata (5.3 kB)\n",
      "Requirement already satisfied: Werkzeug>=3.0.0 in c:\\users\\lenovo\\anaconda3\\lib\\site-packages (from flask->flask-wtf) (3.0.3)\n",
      "Requirement already satisfied: Jinja2>=3.1.2 in c:\\users\\lenovo\\anaconda3\\lib\\site-packages (from flask->flask-wtf) (3.1.4)\n",
      "Requirement already satisfied: click>=8.1.3 in c:\\users\\lenovo\\anaconda3\\lib\\site-packages (from flask->flask-wtf) (8.1.7)\n",
      "Requirement already satisfied: blinker>=1.6.2 in c:\\users\\lenovo\\anaconda3\\lib\\site-packages (from flask->flask-wtf) (1.6.2)\n",
      "Requirement already satisfied: markupsafe in c:\\users\\lenovo\\anaconda3\\lib\\site-packages (from wtforms->flask-wtf) (2.1.3)\n",
      "Requirement already satisfied: colorama in c:\\users\\lenovo\\anaconda3\\lib\\site-packages (from click>=8.1.3->flask->flask-wtf) (0.4.6)\n",
      "Downloading flask_wtf-1.2.2-py3-none-any.whl (12 kB)\n",
      "Downloading wtforms-3.2.1-py3-none-any.whl (152 kB)\n",
      "Installing collected packages: wtforms, flask-wtf\n",
      "Successfully installed flask-wtf-1.2.2 wtforms-3.2.1\n",
      "Note: you may need to restart the kernel to use updated packages.\n"
     ]
    }
   ],
   "source": [
    "pip install flask-wtf"
   ]
  },
  {
   "cell_type": "code",
   "execution_count": 41,
   "id": "d67f7d11-acf9-484d-9852-10035dea3f6e",
   "metadata": {},
   "outputs": [
    {
     "name": "stdout",
     "output_type": "stream",
     "text": [
      " * Serving Flask app '__main__'\n",
      " * Debug mode: on\n"
     ]
    },
    {
     "name": "stderr",
     "output_type": "stream",
     "text": [
      "WARNING: This is a development server. Do not use it in a production deployment. Use a production WSGI server instead.\n",
      " * Running on http://127.0.0.1:5000\n",
      "Press CTRL+C to quit\n",
      " * Restarting with watchdog (windowsapi)\n"
     ]
    },
    {
     "ename": "SystemExit",
     "evalue": "1",
     "output_type": "error",
     "traceback": [
      "An exception has occurred, use %tb to see the full traceback.\n",
      "\u001b[1;31mSystemExit\u001b[0m\u001b[1;31m:\u001b[0m 1\n"
     ]
    }
   ],
   "source": [
    "from flask import Flask, render_template_string, request\n",
    "from flask_wtf import FlaskForm\n",
    "from wtforms import StringField, IntegerField\n",
    "from wtforms.validators import DataRequired, NumberRange\n",
    "\n",
    "app = Flask(__name__)\n",
    "app.secret_key = 'your_secret_key'  \n",
    "class MyForm(FlaskForm):\n",
    "    name = StringField('Name', validators=[DataRequired(message=\"Name is required\")])\n",
    "    age = IntegerField('Age', validators=[DataRequired(message=\"Age is required\"), NumberRange(min=1, max=120)])\n",
    "\n",
    "# Simple HTML template as a string for demo\n",
    "form_template = '''\n",
    "<form method=\"POST\">\n",
    "    {{ form.hidden_tag() }}\n",
    "    Name: {{ form.name(size=20) }}<br>\n",
    "    {% for error in form.name.errors %}\n",
    "      <span style=\"color:red;\">{{ error }}</span><br>\n",
    "    {% endfor %}\n",
    "    \n",
    "    Age: {{ form.age() }}<br>\n",
    "    {% for error in form.age.errors %}\n",
    "      <span style=\"color:red;\">{{ error }}</span><br>\n",
    "    {% endfor %}\n",
    "    \n",
    "    <input type=\"submit\" value=\"Submit\">\n",
    "</form>\n",
    "'''\n",
    "\n",
    "@app.route('/', methods=['GET', 'POST'])\n",
    "def index():\n",
    "    form = MyForm()\n",
    "    if form.validate_on_submit():\n",
    "        name = form.name.data\n",
    "        age = form.age.data\n",
    "        return f\"Valid data received: Name={name}, Age={age}\"\n",
    "    return render_template_string(form_template, form=form)\n",
    "\n",
    "if __name__ == '__main__':\n",
    "    app.run(debug=True)\n"
   ]
  },
  {
   "cell_type": "markdown",
   "id": "dad7f0ac-9e4c-4cc9-83c4-2291b82e1885",
   "metadata": {},
   "source": [
    "# 8. How do you manage sessions in Flask?"
   ]
  },
  {
   "cell_type": "code",
   "execution_count": 42,
   "id": "0dab6065-102f-4f8c-bc01-6ab0441169aa",
   "metadata": {},
   "outputs": [
    {
     "name": "stdout",
     "output_type": "stream",
     "text": [
      " * Serving Flask app '__main__'\n",
      " * Debug mode: on\n"
     ]
    },
    {
     "name": "stderr",
     "output_type": "stream",
     "text": [
      "WARNING: This is a development server. Do not use it in a production deployment. Use a production WSGI server instead.\n",
      " * Running on http://127.0.0.1:5000\n",
      "Press CTRL+C to quit\n",
      " * Restarting with watchdog (windowsapi)\n"
     ]
    },
    {
     "ename": "SystemExit",
     "evalue": "1",
     "output_type": "error",
     "traceback": [
      "An exception has occurred, use %tb to see the full traceback.\n",
      "\u001b[1;31mSystemExit\u001b[0m\u001b[1;31m:\u001b[0m 1\n"
     ]
    }
   ],
   "source": [
    "from flask import Flask, session, redirect, url_for, request\n",
    "\n",
    "app = Flask(__name__)\n",
    "app.secret_key = 'your_secret_key'  \n",
    "\n",
    "@app.route('/')\n",
    "def home():\n",
    "    if 'username' in session:\n",
    "        return f\"Logged in as {session['username']}\"\n",
    "    return \"You are not logged in\"\n",
    "\n",
    "@app.route('/login', methods=['GET', 'POST'])\n",
    "def login():\n",
    "    if request.method == 'POST':\n",
    "        \n",
    "        session['username'] = request.form['username']\n",
    "        return redirect(url_for('home'))\n",
    "    return '''\n",
    "        <form method=\"post\">\n",
    "            Username: <input type=\"text\" name=\"username\" />\n",
    "            <input type=\"submit\" value=\"Login\" />\n",
    "        </form>\n",
    "    '''\n",
    "\n",
    "@app.route('/logout')\n",
    "def logout():\n",
    "    \n",
    "    session.pop('username', None)\n",
    "    return redirect(url_for('home'))\n",
    "\n",
    "if __name__ == '__main__':\n",
    "    app.run(debug=True)\n"
   ]
  },
  {
   "cell_type": "markdown",
   "id": "0421bf01-c1f6-4c58-86f6-c170ad063e7f",
   "metadata": {},
   "source": [
    "# 9. How do you redirect to a different route in Flask?"
   ]
  },
  {
   "cell_type": "code",
   "execution_count": 44,
   "id": "52bceff4-bdae-4510-91e4-9c1994b0a426",
   "metadata": {},
   "outputs": [
    {
     "name": "stdout",
     "output_type": "stream",
     "text": [
      " * Serving Flask app '__main__'\n",
      " * Debug mode: on\n"
     ]
    },
    {
     "name": "stderr",
     "output_type": "stream",
     "text": [
      "WARNING: This is a development server. Do not use it in a production deployment. Use a production WSGI server instead.\n",
      " * Running on http://127.0.0.1:5000\n",
      "Press CTRL+C to quit\n",
      " * Restarting with watchdog (windowsapi)\n"
     ]
    },
    {
     "ename": "SystemExit",
     "evalue": "1",
     "output_type": "error",
     "traceback": [
      "An exception has occurred, use %tb to see the full traceback.\n",
      "\u001b[1;31mSystemExit\u001b[0m\u001b[1;31m:\u001b[0m 1\n"
     ]
    }
   ],
   "source": [
    "from flask import Flask, redirect, url_for\n",
    "\n",
    "app = Flask(__name__)\n",
    "\n",
    "@app.route('/')\n",
    "def home():\n",
    "    return \"This is the Home page\"\n",
    "\n",
    "@app.route('/go-to-home')\n",
    "def go_to_home():\n",
    "\n",
    "    return redirect(url_for('home'))\n",
    "\n",
    "if __name__ == '__main__':\n",
    "    app.run(debug=True)\n"
   ]
  },
  {
   "cell_type": "markdown",
   "id": "fe4eb100-e24f-452e-8b92-ada4b2d384e3",
   "metadata": {},
   "source": [
    "# 10. How do you handle errors in Flask (e.g., 404)?"
   ]
  },
  {
   "cell_type": "code",
   "execution_count": 45,
   "id": "d317c074-752b-4b49-9524-08400fdab334",
   "metadata": {},
   "outputs": [
    {
     "name": "stdout",
     "output_type": "stream",
     "text": [
      " * Serving Flask app '__main__'\n",
      " * Debug mode: on\n"
     ]
    },
    {
     "name": "stderr",
     "output_type": "stream",
     "text": [
      "WARNING: This is a development server. Do not use it in a production deployment. Use a production WSGI server instead.\n",
      " * Running on http://127.0.0.1:5000\n",
      "Press CTRL+C to quit\n",
      " * Restarting with watchdog (windowsapi)\n"
     ]
    },
    {
     "ename": "SystemExit",
     "evalue": "1",
     "output_type": "error",
     "traceback": [
      "An exception has occurred, use %tb to see the full traceback.\n",
      "\u001b[1;31mSystemExit\u001b[0m\u001b[1;31m:\u001b[0m 1\n"
     ]
    }
   ],
   "source": [
    "from flask import Flask, render_template_string\n",
    "\n",
    "app = Flask(__name__)\n",
    "\n",
    "\n",
    "@app.errorhandler(404)\n",
    "def page_not_found(e):\n",
    "    return render_template_string('''\n",
    "        <h1>404 Error</h1>\n",
    "        <p>Sorry, the page you are looking for does not exist.</p>\n",
    "    '''), 404\n",
    "\n",
    "@app.route('/')\n",
    "def home():\n",
    "    return \"Welcome to the Home Page!\"\n",
    "\n",
    "if __name__ == '__main__':\n",
    "    app.run(debug=True)\n"
   ]
  },
  {
   "cell_type": "markdown",
   "id": "4e3a211e-39ca-475b-8bee-3c20e21ecf77",
   "metadata": {},
   "source": [
    "# 11. How do you structure a Flask app using Blueprints?"
   ]
  },
  {
   "cell_type": "code",
   "execution_count": 52,
   "id": "40d931a3-f784-43fb-8dd8-5da20c2cb386",
   "metadata": {},
   "outputs": [],
   "source": [
    "from flask import Blueprint\n",
    "\n",
    "user_bp = Blueprint('user', __name__)\n",
    "\n",
    "@user_bp.route('/profile')\n",
    "def profile():\n",
    "    return \"User Profile Page\"\n",
    "\n",
    "@user_bp.route('/settings')\n",
    "def settings():\n",
    "    return \"User Settings Page\"\n"
   ]
  },
  {
   "cell_type": "code",
   "execution_count": 53,
   "id": "876513c5-a1f1-4fae-8f5f-fc213b95dc61",
   "metadata": {},
   "outputs": [
    {
     "name": "stdout",
     "output_type": "stream",
     "text": [
      "Overwriting user_routes.py\n"
     ]
    }
   ],
   "source": [
    "%%writefile user_routes.py\n",
    "from flask import Blueprint\n",
    "\n",
    "user_bp = Blueprint('user', __name__)\n",
    "\n",
    "@user_bp.route('/profile')\n",
    "def profile():\n",
    "    return \"User Profile Page\"\n",
    "\n",
    "@user_bp.route('/settings')\n",
    "def settings():\n",
    "    return \"User Settings Page\"\n"
   ]
  },
  {
   "cell_type": "code",
   "execution_count": null,
   "id": "0aae90d0-6daf-40d1-b76e-1555454f56a3",
   "metadata": {},
   "outputs": [],
   "source": [
    "from flask import Flask\n",
    "from user_routes import user_bp\n",
    "\n",
    "app = Flask(__name__)\n",
    "\n",
    "app.register_blueprint(user_bp, url_prefix='/user')\n",
    "\n",
    "@app.route('/')\n",
    "def home():\n",
    "    return \"Welcome to the main homepage!\"\n",
    "\n",
    "if __name__ == '__main__':\n",
    "    app.run(debug=True)\n"
   ]
  },
  {
   "cell_type": "markdown",
   "id": "f93bffae-6b89-4e7c-a5ef-d316fe1edc81",
   "metadata": {},
   "source": [
    "# 12. How do you create a custom Jinja filter in Flask?"
   ]
  },
  {
   "cell_type": "code",
   "execution_count": 55,
   "id": "719db351-80fc-4e09-9a21-9c9b28f82b7d",
   "metadata": {},
   "outputs": [
    {
     "name": "stdout",
     "output_type": "stream",
     "text": [
      " * Serving Flask app '__main__'\n",
      " * Debug mode: on\n"
     ]
    },
    {
     "name": "stderr",
     "output_type": "stream",
     "text": [
      "WARNING: This is a development server. Do not use it in a production deployment. Use a production WSGI server instead.\n",
      " * Running on http://127.0.0.1:5000\n",
      "Press CTRL+C to quit\n",
      " * Restarting with watchdog (windowsapi)\n"
     ]
    },
    {
     "ename": "SystemExit",
     "evalue": "1",
     "output_type": "error",
     "traceback": [
      "An exception has occurred, use %tb to see the full traceback.\n",
      "\u001b[1;31mSystemExit\u001b[0m\u001b[1;31m:\u001b[0m 1\n"
     ]
    }
   ],
   "source": [
    "from flask import Flask, render_template_string\n",
    "\n",
    "app = Flask(__name__)\n",
    "\n",
    "\n",
    "def reverse_string(s):\n",
    "    return s[::-1]\n",
    "\n",
    "app.jinja_env.filters['reverse'] = reverse_string\n",
    "\n",
    "@app.route('/')\n",
    "def home():\n",
    "    sample_text = \"Flask\"\n",
    "    template = '''\n",
    "    Original: {{ text }} <br>\n",
    "    Reversed: {{ text | reverse }}\n",
    "    '''\n",
    "    return render_template_string(template, text=sample_text)\n",
    "\n",
    "if __name__ == '__main__':\n",
    "    app.run(debug=True)\n"
   ]
  },
  {
   "cell_type": "markdown",
   "id": "bfe6e2ec-451e-45ff-b9c4-9830c7d42ca1",
   "metadata": {},
   "source": [
    "# 13. How do you redirect with query parameters in Flask?"
   ]
  },
  {
   "cell_type": "code",
   "execution_count": 56,
   "id": "375d87be-189f-4a60-b15e-778c70a9c368",
   "metadata": {},
   "outputs": [
    {
     "name": "stdout",
     "output_type": "stream",
     "text": [
      " * Serving Flask app '__main__'\n",
      " * Debug mode: on\n"
     ]
    },
    {
     "name": "stderr",
     "output_type": "stream",
     "text": [
      "WARNING: This is a development server. Do not use it in a production deployment. Use a production WSGI server instead.\n",
      " * Running on http://127.0.0.1:5000\n",
      "Press CTRL+C to quit\n",
      " * Restarting with watchdog (windowsapi)\n"
     ]
    },
    {
     "ename": "SystemExit",
     "evalue": "1",
     "output_type": "error",
     "traceback": [
      "An exception has occurred, use %tb to see the full traceback.\n",
      "\u001b[1;31mSystemExit\u001b[0m\u001b[1;31m:\u001b[0m 1\n"
     ]
    }
   ],
   "source": [
    "from flask import Flask, redirect, url_for, request\n",
    "\n",
    "app = Flask(__name__)\n",
    "\n",
    "@app.route('/search')\n",
    "def search():\n",
    "    query = request.args.get('q', '')\n",
    "    return f'Search results for: {query}'\n",
    "\n",
    "@app.route('/go-to-search')\n",
    "def go_to_search():\n",
    "    return redirect(url_for('search', q='flask'))\n",
    "\n",
    "if __name__ == '__main__':\n",
    "    app.run(debug=True)\n"
   ]
  },
  {
   "cell_type": "markdown",
   "id": "24a67ff3-6d5d-428d-80b9-f1b647e1dac9",
   "metadata": {},
   "source": [
    "# 14. How do you return JSON responses in Flask?"
   ]
  },
  {
   "cell_type": "code",
   "execution_count": 57,
   "id": "a86ee26d-1cdb-4b24-990c-8135a546e804",
   "metadata": {},
   "outputs": [
    {
     "name": "stdout",
     "output_type": "stream",
     "text": [
      " * Serving Flask app '__main__'\n",
      " * Debug mode: on\n"
     ]
    },
    {
     "name": "stderr",
     "output_type": "stream",
     "text": [
      "WARNING: This is a development server. Do not use it in a production deployment. Use a production WSGI server instead.\n",
      " * Running on http://127.0.0.1:5000\n",
      "Press CTRL+C to quit\n",
      " * Restarting with watchdog (windowsapi)\n"
     ]
    },
    {
     "ename": "SystemExit",
     "evalue": "1",
     "output_type": "error",
     "traceback": [
      "An exception has occurred, use %tb to see the full traceback.\n",
      "\u001b[1;31mSystemExit\u001b[0m\u001b[1;31m:\u001b[0m 1\n"
     ]
    }
   ],
   "source": [
    "from flask import Flask, jsonify\n",
    "\n",
    "app = Flask(__name__)\n",
    "\n",
    "@app.route('/api/data')\n",
    "def api_data():\n",
    "    data = {\n",
    "        'name': 'Alice',\n",
    "        'age': 30,\n",
    "        'city': 'New York'\n",
    "    }\n",
    "    return jsonify(data)\n",
    "\n",
    "if __name__ == '__main__':\n",
    "    app.run(debug=True)\n"
   ]
  },
  {
   "cell_type": "markdown",
   "id": "8bd53f1f-9f77-466d-ac80-b37d6625d56a",
   "metadata": {},
   "source": [
    "# 15. How do you capture URL parameters in Flask?"
   ]
  },
  {
   "cell_type": "code",
   "execution_count": 58,
   "id": "8caf11a9-918b-4dc6-811c-42835e658eb1",
   "metadata": {},
   "outputs": [
    {
     "name": "stdout",
     "output_type": "stream",
     "text": [
      " * Serving Flask app '__main__'\n",
      " * Debug mode: on\n"
     ]
    },
    {
     "name": "stderr",
     "output_type": "stream",
     "text": [
      "WARNING: This is a development server. Do not use it in a production deployment. Use a production WSGI server instead.\n",
      " * Running on http://127.0.0.1:5000\n",
      "Press CTRL+C to quit\n",
      " * Restarting with watchdog (windowsapi)\n"
     ]
    },
    {
     "ename": "SystemExit",
     "evalue": "1",
     "output_type": "error",
     "traceback": [
      "An exception has occurred, use %tb to see the full traceback.\n",
      "\u001b[1;31mSystemExit\u001b[0m\u001b[1;31m:\u001b[0m 1\n"
     ]
    }
   ],
   "source": [
    "from flask import Flask\n",
    "\n",
    "app = Flask(__name__)\n",
    "\n",
    "@app.route('/user/<username>')\n",
    "def show_user(username):\n",
    "    return f\"Hello, {username}!\"\n",
    "\n",
    "@app.route('/post/<int:post_id>')\n",
    "def show_post(post_id):\n",
    "    return f\"Viewing post with ID: {post_id}\"\n",
    "\n",
    "if __name__ == '__main__':\n",
    "    app.run(debug=True)\n"
   ]
  },
  {
   "cell_type": "code",
   "execution_count": null,
   "id": "fd73f7a5-75d8-4a54-bd60-2a5fcc07f6c2",
   "metadata": {},
   "outputs": [],
   "source": []
  }
 ],
 "metadata": {
  "kernelspec": {
   "display_name": "Python 3 (ipykernel)",
   "language": "python",
   "name": "python3"
  },
  "language_info": {
   "codemirror_mode": {
    "name": "ipython",
    "version": 3
   },
   "file_extension": ".py",
   "mimetype": "text/x-python",
   "name": "python",
   "nbconvert_exporter": "python",
   "pygments_lexer": "ipython3",
   "version": "3.12.7"
  }
 },
 "nbformat": 4,
 "nbformat_minor": 5
}
